{
 "cells": [
  {
   "cell_type": "markdown",
   "metadata": {
    "nbpresent": {
     "id": "b578d797-6c51-407b-8adb-df9b73ceedb0"
    },
    "slideshow": {
     "slide_type": "slide"
    }
   },
   "source": [
    " ![What is this](s1.png) "
   ]
  },
  {
   "cell_type": "markdown",
   "metadata": {
    "slideshow": {
     "slide_type": "slide"
    }
   },
   "source": [
    "\n",
    "<center>![What is this](s.png)</center>\n"
   ]
  },
  {
   "cell_type": "code",
   "execution_count": 3,
   "metadata": {
    "collapsed": true,
    "nbpresent": {
     "id": "72137b31-9142-40be-87f7-0b2012b0f0e9"
    },
    "slideshow": {
     "slide_type": "slide"
    }
   },
   "outputs": [],
   "source": [
    "import pandas as pd\n",
    "import numpy as np"
   ]
  },
  {
   "cell_type": "markdown",
   "metadata": {
    "nbpresent": {
     "id": "d45f1680-d2bb-45db-b7e5-113b8c93344c"
    },
    "slideshow": {
     "slide_type": "slide"
    }
   },
   "source": [
    "# *NaN Gotchas*"
   ]
  },
  {
   "cell_type": "markdown",
   "metadata": {
    "nbpresent": {
     "id": "0f09f5db-d848-47bf-ac32-69c1f7764c91"
    },
    "slideshow": {
     "slide_type": "subslide"
    }
   },
   "source": [
    "## Why NaN values are important?"
   ]
  },
  {
   "cell_type": "code",
   "execution_count": null,
   "metadata": {
    "collapsed": true,
    "nbpresent": {
     "id": "3f61aa2b-5fe1-4cf1-960c-639b6527cb8e"
    },
    "slideshow": {
     "slide_type": "skip"
    }
   },
   "outputs": [],
   "source": []
  },
  {
   "cell_type": "code",
   "execution_count": null,
   "metadata": {
    "collapsed": true,
    "nbpresent": {
     "id": "36a7dc40-e38f-4050-877f-e1559e17fb10"
    },
    "slideshow": {
     "slide_type": "skip"
    }
   },
   "outputs": [],
   "source": []
  },
  {
   "cell_type": "markdown",
   "metadata": {
    "nbpresent": {
     "id": "4d394517-b8f0-4362-8bf8-d8c82a63b542"
    },
    "slideshow": {
     "slide_type": "slide"
    }
   },
   "source": []
  },
  {
   "cell_type": "code",
   "execution_count": 4,
   "metadata": {
    "nbpresent": {
     "id": "72eaccff-7e2c-4d94-b596-967a1d6e9a89"
    },
    "slideshow": {
     "slide_type": "slide"
    }
   },
   "outputs": [
    {
     "data": {
      "text/plain": [
       "a    1\n",
       "b    2\n",
       "c    3\n",
       "d    4\n",
       "e    5\n",
       "f    6\n",
       "dtype: int64"
      ]
     },
     "execution_count": 4,
     "metadata": {},
     "output_type": "execute_result"
    }
   ],
   "source": [
    "s = pd.Series([1, 2, 3, 4, 5, 6], index=list('abcdef'))\n",
    "s"
   ]
  },
  {
   "cell_type": "code",
   "execution_count": 5,
   "metadata": {
    "nbpresent": {
     "id": "fce74e4e-8b1c-488e-a44f-f5652c6a8a5b"
    },
    "slideshow": {
     "slide_type": "subslide"
    }
   },
   "outputs": [
    {
     "data": {
      "text/plain": [
       "dtype('int64')"
      ]
     },
     "execution_count": 5,
     "metadata": {},
     "output_type": "execute_result"
    }
   ],
   "source": [
    "s.dtype"
   ]
  },
  {
   "cell_type": "code",
   "execution_count": 6,
   "metadata": {
    "nbpresent": {
     "id": "f4818266-bc9f-40b2-a958-5f9e8f1f442c"
    },
    "slideshow": {
     "slide_type": "slide"
    }
   },
   "outputs": [
    {
     "data": {
      "text/plain": [
       "a    1.0\n",
       "b    2.0\n",
       "c    3.0\n",
       "h    NaN\n",
       "e    5.0\n",
       "r    NaN\n",
       "dtype: float64"
      ]
     },
     "execution_count": 6,
     "metadata": {},
     "output_type": "execute_result"
    }
   ],
   "source": [
    "#3\n",
    "s2 = s.reindex(['a', 'b', 'c', 'h', 'e', 'r'])\n",
    "s2"
   ]
  },
  {
   "cell_type": "code",
   "execution_count": 8,
   "metadata": {
    "nbpresent": {
     "id": "d6c94b62-9e02-457a-b9b7-c5acdc48bf6d"
    },
    "slideshow": {
     "slide_type": "subslide"
    }
   },
   "outputs": [
    {
     "data": {
      "text/plain": [
       "dtype('int64')"
      ]
     },
     "execution_count": 8,
     "metadata": {},
     "output_type": "execute_result"
    }
   ],
   "source": [
    "s.dtype"
   ]
  },
  {
   "cell_type": "code",
   "execution_count": 9,
   "metadata": {
    "nbpresent": {
     "id": "26a39cdb-8af8-4c55-8102-903874dd2c54"
    },
    "slideshow": {
     "slide_type": "subslide"
    }
   },
   "outputs": [
    {
     "data": {
      "text/plain": [
       "dtype('float64')"
      ]
     },
     "execution_count": 9,
     "metadata": {},
     "output_type": "execute_result"
    }
   ],
   "source": [
    "s2.dtype"
   ]
  },
  {
   "cell_type": "code",
   "execution_count": 10,
   "metadata": {
    "nbpresent": {
     "id": "7203a34d-18b7-4373-bb8a-be27d45954f9"
    },
    "slideshow": {
     "slide_type": "slide"
    }
   },
   "outputs": [
    {
     "data": {
      "text/html": [
       "<div>\n",
       "<table border=\"1\" class=\"dataframe\">\n",
       "  <thead>\n",
       "    <tr style=\"text-align: right;\">\n",
       "      <th></th>\n",
       "      <th>col</th>\n",
       "    </tr>\n",
       "  </thead>\n",
       "  <tbody>\n",
       "    <tr>\n",
       "      <th>3</th>\n",
       "      <td>4.0</td>\n",
       "    </tr>\n",
       "    <tr>\n",
       "      <th>4</th>\n",
       "      <td>NaN</td>\n",
       "    </tr>\n",
       "    <tr>\n",
       "      <th>5</th>\n",
       "      <td>NaN</td>\n",
       "    </tr>\n",
       "    <tr>\n",
       "      <th>6</th>\n",
       "      <td>NaN</td>\n",
       "    </tr>\n",
       "  </tbody>\n",
       "</table>\n",
       "</div>"
      ],
      "text/plain": [
       "   col\n",
       "3  4.0\n",
       "4  NaN\n",
       "5  NaN\n",
       "6  NaN"
      ]
     },
     "execution_count": 10,
     "metadata": {},
     "output_type": "execute_result"
    }
   ],
   "source": [
    "series=pd.Series([1,2,3,4])\n",
    "df=pd.DataFrame(index=[3,4,5,6])\n",
    "df['col']=series\n",
    "df"
   ]
  },
  {
   "cell_type": "code",
   "execution_count": 12,
   "metadata": {
    "nbpresent": {
     "id": "fa4898ab-dbb7-48a0-b342-29b84ee079c6"
    },
    "slideshow": {
     "slide_type": "slide"
    }
   },
   "outputs": [
    {
     "data": {
      "text/html": [
       "<div>\n",
       "<table border=\"1\" class=\"dataframe\">\n",
       "  <thead>\n",
       "    <tr style=\"text-align: right;\">\n",
       "      <th></th>\n",
       "      <th>col</th>\n",
       "    </tr>\n",
       "  </thead>\n",
       "  <tbody>\n",
       "    <tr>\n",
       "      <th>3</th>\n",
       "      <td>1</td>\n",
       "    </tr>\n",
       "    <tr>\n",
       "      <th>4</th>\n",
       "      <td>2</td>\n",
       "    </tr>\n",
       "    <tr>\n",
       "      <th>5</th>\n",
       "      <td>3</td>\n",
       "    </tr>\n",
       "    <tr>\n",
       "      <th>6</th>\n",
       "      <td>4</td>\n",
       "    </tr>\n",
       "  </tbody>\n",
       "</table>\n",
       "</div>"
      ],
      "text/plain": [
       "   col\n",
       "3    1\n",
       "4    2\n",
       "5    3\n",
       "6    4"
      ]
     },
     "execution_count": 12,
     "metadata": {},
     "output_type": "execute_result"
    }
   ],
   "source": [
    "#Solution\n",
    "df['col']=series.values\n",
    "df"
   ]
  },
  {
   "cell_type": "code",
   "execution_count": 13,
   "metadata": {
    "nbpresent": {
     "id": "26a3d5ea-df64-4e45-b575-37894cd5de5c"
    },
    "slideshow": {
     "slide_type": "slide"
    }
   },
   "outputs": [
    {
     "data": {
      "text/html": [
       "<div>\n",
       "<table border=\"1\" class=\"dataframe\">\n",
       "  <thead>\n",
       "    <tr style=\"text-align: right;\">\n",
       "      <th></th>\n",
       "      <th>col</th>\n",
       "    </tr>\n",
       "  </thead>\n",
       "  <tbody>\n",
       "    <tr>\n",
       "      <th>0</th>\n",
       "      <td>False</td>\n",
       "    </tr>\n",
       "    <tr>\n",
       "      <th>1</th>\n",
       "      <td>False</td>\n",
       "    </tr>\n",
       "  </tbody>\n",
       "</table>\n",
       "</div>"
      ],
      "text/plain": [
       "     col\n",
       "0  False\n",
       "1  False"
      ]
     },
     "execution_count": 13,
     "metadata": {},
     "output_type": "execute_result"
    }
   ],
   "source": [
    "df=pd.DataFrame({'col':[1,np.nan]})\n",
    "df==np.nan"
   ]
  },
  {
   "cell_type": "code",
   "execution_count": 15,
   "metadata": {
    "nbpresent": {
     "id": "4959cce3-5527-4fda-9c90-cde0add5e21f"
    },
    "slideshow": {
     "slide_type": "slide"
    }
   },
   "outputs": [
    {
     "data": {
      "text/html": [
       "<div>\n",
       "<table border=\"1\" class=\"dataframe\">\n",
       "  <thead>\n",
       "    <tr style=\"text-align: right;\">\n",
       "      <th></th>\n",
       "      <th>col</th>\n",
       "    </tr>\n",
       "  </thead>\n",
       "  <tbody>\n",
       "    <tr>\n",
       "      <th>0</th>\n",
       "      <td>False</td>\n",
       "    </tr>\n",
       "    <tr>\n",
       "      <th>1</th>\n",
       "      <td>True</td>\n",
       "    </tr>\n",
       "  </tbody>\n",
       "</table>\n",
       "</div>"
      ],
      "text/plain": [
       "     col\n",
       "0  False\n",
       "1   True"
      ]
     },
     "execution_count": 15,
     "metadata": {},
     "output_type": "execute_result"
    }
   ],
   "source": [
    "df=pd.DataFrame({'col':[1,np.nan]})   \n",
    "df.isnull()"
   ]
  },
  {
   "cell_type": "markdown",
   "metadata": {
    "slideshow": {
     "slide_type": "slide"
    }
   },
   "source": [
    "## why ??\n"
   ]
  },
  {
   "cell_type": "markdown",
   "metadata": {
    "slideshow": {
     "slide_type": "slide"
    }
   },
   "source": [
    "### Lack of NA value support in Numpy\n",
    "then why not make it like R"
   ]
  },
  {
   "cell_type": "markdown",
   "metadata": {
    "slideshow": {
     "slide_type": "slide"
    }
   },
   "source": [
    "Numpy has way more data types than R\n",
    "\n",
    "Pandas replaces all the NA value with NaN which then changes the data type to either float or object"
   ]
  },
  {
   "cell_type": "code",
   "execution_count": 16,
   "metadata": {
    "nbpresent": {
     "id": "e0bff9ee-73c9-4db7-9966-e22aff1c0b59"
    },
    "slideshow": {
     "slide_type": "slide"
    }
   },
   "outputs": [
    {
     "data": {
      "text/html": [
       "<div>\n",
       "<table border=\"1\" class=\"dataframe\">\n",
       "  <thead>\n",
       "    <tr style=\"text-align: right;\">\n",
       "      <th></th>\n",
       "      <th>0</th>\n",
       "    </tr>\n",
       "  </thead>\n",
       "  <tbody>\n",
       "    <tr>\n",
       "      <th>Typeclass</th>\n",
       "      <td>Promotion dtype for storing NAs</td>\n",
       "    </tr>\n",
       "    <tr>\n",
       "      <th>floating</th>\n",
       "      <td>No Change</td>\n",
       "    </tr>\n",
       "    <tr>\n",
       "      <th>object</th>\n",
       "      <td>No Change</td>\n",
       "    </tr>\n",
       "    <tr>\n",
       "      <th>integer</th>\n",
       "      <td>Cast to Float64</td>\n",
       "    </tr>\n",
       "    <tr>\n",
       "      <th>boolean</th>\n",
       "      <td>Cast to object</td>\n",
       "    </tr>\n",
       "  </tbody>\n",
       "</table>\n",
       "</div>"
      ],
      "text/plain": [
       "                                         0\n",
       "Typeclass  Promotion dtype for storing NAs\n",
       "floating                         No Change\n",
       "object                           No Change\n",
       "integer                    Cast to Float64\n",
       "boolean                     Cast to object"
      ]
     },
     "execution_count": 16,
     "metadata": {},
     "output_type": "execute_result"
    }
   ],
   "source": [
    "Tab=pd.DataFrame(['Promotion dtype for storing NAs','No Change','No Change','Cast to Float64','Cast to object'],index=['Typeclass','floating','object','integer','boolean'])\n",
    "Tab"
   ]
  },
  {
   "cell_type": "markdown",
   "metadata": {
    "nbpresent": {
     "id": "3b540b86-46a0-4495-b451-422167745195"
    },
    "slideshow": {
     "slide_type": "slide"
    }
   },
   "source": [
    "## Reindexing Gotchas"
   ]
  },
  {
   "cell_type": "code",
   "execution_count": 17,
   "metadata": {
    "nbpresent": {
     "id": "579e6535-6d9f-4920-9ef2-19315e219b64"
    },
    "slideshow": {
     "slide_type": "subslide"
    }
   },
   "outputs": [
    {
     "data": {
      "text/html": [
       "<div>\n",
       "<table border=\"1\" class=\"dataframe\">\n",
       "  <thead>\n",
       "    <tr style=\"text-align: right;\">\n",
       "      <th></th>\n",
       "      <th>one</th>\n",
       "      <th>two</th>\n",
       "      <th>three</th>\n",
       "      <th>four</th>\n",
       "    </tr>\n",
       "  </thead>\n",
       "  <tbody>\n",
       "    <tr>\n",
       "      <th>a</th>\n",
       "      <td>0.531051</td>\n",
       "      <td>-0.376303</td>\n",
       "      <td>-0.627383</td>\n",
       "      <td>-1.623807</td>\n",
       "    </tr>\n",
       "    <tr>\n",
       "      <th>b</th>\n",
       "      <td>-0.502986</td>\n",
       "      <td>-0.890361</td>\n",
       "      <td>-0.324323</td>\n",
       "      <td>0.118504</td>\n",
       "    </tr>\n",
       "    <tr>\n",
       "      <th>c</th>\n",
       "      <td>1.842964</td>\n",
       "      <td>0.793217</td>\n",
       "      <td>1.329727</td>\n",
       "      <td>0.956568</td>\n",
       "    </tr>\n",
       "    <tr>\n",
       "      <th>d</th>\n",
       "      <td>0.382663</td>\n",
       "      <td>0.677318</td>\n",
       "      <td>-0.880011</td>\n",
       "      <td>0.634985</td>\n",
       "    </tr>\n",
       "    <tr>\n",
       "      <th>e</th>\n",
       "      <td>0.925036</td>\n",
       "      <td>1.200852</td>\n",
       "      <td>-0.357703</td>\n",
       "      <td>-1.547807</td>\n",
       "    </tr>\n",
       "    <tr>\n",
       "      <th>f</th>\n",
       "      <td>-0.291855</td>\n",
       "      <td>1.514836</td>\n",
       "      <td>-0.715625</td>\n",
       "      <td>0.927204</td>\n",
       "    </tr>\n",
       "  </tbody>\n",
       "</table>\n",
       "</div>"
      ],
      "text/plain": [
       "        one       two     three      four\n",
       "a  0.531051 -0.376303 -0.627383 -1.623807\n",
       "b -0.502986 -0.890361 -0.324323  0.118504\n",
       "c  1.842964  0.793217  1.329727  0.956568\n",
       "d  0.382663  0.677318 -0.880011  0.634985\n",
       "e  0.925036  1.200852 -0.357703 -1.547807\n",
       "f -0.291855  1.514836 -0.715625  0.927204"
      ]
     },
     "execution_count": 17,
     "metadata": {},
     "output_type": "execute_result"
    }
   ],
   "source": [
    "df = pd.DataFrame(np.random.randn(6, 4), columns=['one', 'two', 'three', 'four'],index=list('abcdef'))\n",
    "df"
   ]
  },
  {
   "cell_type": "code",
   "execution_count": 18,
   "metadata": {
    "nbpresent": {
     "id": "529d606f-5832-41b8-b0a5-0716652684a8"
    },
    "slideshow": {
     "slide_type": "slide"
    }
   },
   "outputs": [
    {
     "data": {
      "text/html": [
       "<div>\n",
       "<table border=\"1\" class=\"dataframe\">\n",
       "  <thead>\n",
       "    <tr style=\"text-align: right;\">\n",
       "      <th></th>\n",
       "      <th>one</th>\n",
       "      <th>two</th>\n",
       "      <th>three</th>\n",
       "      <th>four</th>\n",
       "    </tr>\n",
       "  </thead>\n",
       "  <tbody>\n",
       "    <tr>\n",
       "      <th>b</th>\n",
       "      <td>-0.502986</td>\n",
       "      <td>-0.890361</td>\n",
       "      <td>-0.324323</td>\n",
       "      <td>0.118504</td>\n",
       "    </tr>\n",
       "    <tr>\n",
       "      <th>c</th>\n",
       "      <td>1.842964</td>\n",
       "      <td>0.793217</td>\n",
       "      <td>1.329727</td>\n",
       "      <td>0.956568</td>\n",
       "    </tr>\n",
       "    <tr>\n",
       "      <th>e</th>\n",
       "      <td>0.925036</td>\n",
       "      <td>1.200852</td>\n",
       "      <td>-0.357703</td>\n",
       "      <td>-1.547807</td>\n",
       "    </tr>\n",
       "  </tbody>\n",
       "</table>\n",
       "</div>"
      ],
      "text/plain": [
       "        one       two     three      four\n",
       "b -0.502986 -0.890361 -0.324323  0.118504\n",
       "c  1.842964  0.793217  1.329727  0.956568\n",
       "e  0.925036  1.200852 -0.357703 -1.547807"
      ]
     },
     "execution_count": 18,
     "metadata": {},
     "output_type": "execute_result"
    }
   ],
   "source": [
    "df.ix[['b', 'c', 'e']]"
   ]
  },
  {
   "cell_type": "code",
   "execution_count": 20,
   "metadata": {
    "nbpresent": {
     "id": "c5e74e40-9409-4ec8-91a1-5ce9f76495ec"
    },
    "slideshow": {
     "slide_type": "slide"
    }
   },
   "outputs": [
    {
     "data": {
      "text/html": [
       "<div>\n",
       "<table border=\"1\" class=\"dataframe\">\n",
       "  <thead>\n",
       "    <tr style=\"text-align: right;\">\n",
       "      <th></th>\n",
       "      <th>one</th>\n",
       "      <th>two</th>\n",
       "      <th>three</th>\n",
       "      <th>four</th>\n",
       "    </tr>\n",
       "  </thead>\n",
       "  <tbody>\n",
       "    <tr>\n",
       "      <th>b</th>\n",
       "      <td>-0.502986</td>\n",
       "      <td>-0.890361</td>\n",
       "      <td>-0.324323</td>\n",
       "      <td>0.118504</td>\n",
       "    </tr>\n",
       "    <tr>\n",
       "      <th>c</th>\n",
       "      <td>1.842964</td>\n",
       "      <td>0.793217</td>\n",
       "      <td>1.329727</td>\n",
       "      <td>0.956568</td>\n",
       "    </tr>\n",
       "    <tr>\n",
       "      <th>e</th>\n",
       "      <td>0.925036</td>\n",
       "      <td>1.200852</td>\n",
       "      <td>-0.357703</td>\n",
       "      <td>-1.547807</td>\n",
       "    </tr>\n",
       "  </tbody>\n",
       "</table>\n",
       "</div>"
      ],
      "text/plain": [
       "        one       two     three      four\n",
       "b -0.502986 -0.890361 -0.324323  0.118504\n",
       "c  1.842964  0.793217  1.329727  0.956568\n",
       "e  0.925036  1.200852 -0.357703 -1.547807"
      ]
     },
     "execution_count": 20,
     "metadata": {},
     "output_type": "execute_result"
    }
   ],
   "source": [
    "df.reindex(['b', 'c', 'e'])"
   ]
  },
  {
   "cell_type": "code",
   "execution_count": 21,
   "metadata": {
    "nbpresent": {
     "id": "5761272e-9a80-4553-a6d5-5b5b41f23fe1"
    },
    "slideshow": {
     "slide_type": "slide"
    }
   },
   "outputs": [
    {
     "data": {
      "text/html": [
       "<div>\n",
       "<table border=\"1\" class=\"dataframe\">\n",
       "  <thead>\n",
       "    <tr style=\"text-align: right;\">\n",
       "      <th></th>\n",
       "      <th>one</th>\n",
       "      <th>two</th>\n",
       "      <th>three</th>\n",
       "      <th>four</th>\n",
       "    </tr>\n",
       "  </thead>\n",
       "  <tbody>\n",
       "    <tr>\n",
       "      <th>b</th>\n",
       "      <td>-0.502986</td>\n",
       "      <td>-0.890361</td>\n",
       "      <td>-0.324323</td>\n",
       "      <td>0.118504</td>\n",
       "    </tr>\n",
       "    <tr>\n",
       "      <th>c</th>\n",
       "      <td>1.842964</td>\n",
       "      <td>0.793217</td>\n",
       "      <td>1.329727</td>\n",
       "      <td>0.956568</td>\n",
       "    </tr>\n",
       "    <tr>\n",
       "      <th>e</th>\n",
       "      <td>0.925036</td>\n",
       "      <td>1.200852</td>\n",
       "      <td>-0.357703</td>\n",
       "      <td>-1.547807</td>\n",
       "    </tr>\n",
       "  </tbody>\n",
       "</table>\n",
       "</div>"
      ],
      "text/plain": [
       "        one       two     three      four\n",
       "b -0.502986 -0.890361 -0.324323  0.118504\n",
       "c  1.842964  0.793217  1.329727  0.956568\n",
       "e  0.925036  1.200852 -0.357703 -1.547807"
      ]
     },
     "execution_count": 21,
     "metadata": {},
     "output_type": "execute_result"
    }
   ],
   "source": [
    "df.ix[[1, 2, 4]]"
   ]
  },
  {
   "cell_type": "code",
   "execution_count": 22,
   "metadata": {
    "nbpresent": {
     "id": "05aa05bc-42e3-4433-a469-5df6947e580e"
    },
    "slideshow": {
     "slide_type": "slide"
    }
   },
   "outputs": [
    {
     "data": {
      "text/html": [
       "<div>\n",
       "<table border=\"1\" class=\"dataframe\">\n",
       "  <thead>\n",
       "    <tr style=\"text-align: right;\">\n",
       "      <th></th>\n",
       "      <th>one</th>\n",
       "      <th>two</th>\n",
       "      <th>three</th>\n",
       "      <th>four</th>\n",
       "    </tr>\n",
       "  </thead>\n",
       "  <tbody>\n",
       "    <tr>\n",
       "      <th>1</th>\n",
       "      <td>NaN</td>\n",
       "      <td>NaN</td>\n",
       "      <td>NaN</td>\n",
       "      <td>NaN</td>\n",
       "    </tr>\n",
       "    <tr>\n",
       "      <th>2</th>\n",
       "      <td>NaN</td>\n",
       "      <td>NaN</td>\n",
       "      <td>NaN</td>\n",
       "      <td>NaN</td>\n",
       "    </tr>\n",
       "    <tr>\n",
       "      <th>4</th>\n",
       "      <td>NaN</td>\n",
       "      <td>NaN</td>\n",
       "      <td>NaN</td>\n",
       "      <td>NaN</td>\n",
       "    </tr>\n",
       "  </tbody>\n",
       "</table>\n",
       "</div>"
      ],
      "text/plain": [
       "   one  two  three  four\n",
       "1  NaN  NaN    NaN   NaN\n",
       "2  NaN  NaN    NaN   NaN\n",
       "4  NaN  NaN    NaN   NaN"
      ]
     },
     "execution_count": 22,
     "metadata": {},
     "output_type": "execute_result"
    }
   ],
   "source": [
    "df.reindex([1, 2, 4])"
   ]
  },
  {
   "cell_type": "code",
   "execution_count": null,
   "metadata": {
    "collapsed": true,
    "nbpresent": {
     "id": "250c4517-be89-4553-badf-89f017664924"
    },
    "slideshow": {
     "slide_type": "subslide"
    }
   },
   "outputs": [],
   "source": [
    "#Reindex being strictly label based indexing can't perform this function"
   ]
  },
  {
   "cell_type": "code",
   "execution_count": 23,
   "metadata": {
    "nbpresent": {
     "id": "336c4ef4-9c79-4580-b351-5d95f1fcd820"
    },
    "slideshow": {
     "slide_type": "slide"
    }
   },
   "outputs": [
    {
     "data": {
      "text/plain": [
       "0    1\n",
       "1    2\n",
       "2    3\n",
       "3    4\n",
       "4    5\n",
       "5    6\n",
       "dtype: int64"
      ]
     },
     "execution_count": 23,
     "metadata": {},
     "output_type": "execute_result"
    }
   ],
   "source": [
    "series = pd.Series([1, 2, 3, 4, 5, 6])\n",
    "series"
   ]
  },
  {
   "cell_type": "code",
   "execution_count": 24,
   "metadata": {
    "nbpresent": {
     "id": "2d8bda1c-6f30-4670-859f-4f88d9c912c6"
    },
    "slideshow": {
     "slide_type": "slide"
    }
   },
   "outputs": [
    {
     "data": {
      "text/plain": [
       "dtype('bool')"
      ]
     },
     "execution_count": 24,
     "metadata": {},
     "output_type": "execute_result"
    }
   ],
   "source": [
    "true = pd.Series([True])\n",
    "true.dtype"
   ]
  },
  {
   "cell_type": "code",
   "execution_count": 25,
   "metadata": {
    "nbpresent": {
     "id": "01fe885c-00a5-413c-bf35-8f30bad00353"
    },
    "slideshow": {
     "slide_type": "subslide"
    }
   },
   "outputs": [
    {
     "data": {
      "text/plain": [
       "dtype('O')"
      ]
     },
     "execution_count": 25,
     "metadata": {},
     "output_type": "execute_result"
    }
   ],
   "source": [
    "true = pd.Series([True]).reindex_like(series)\n",
    "true.dtype"
   ]
  },
  {
   "cell_type": "markdown",
   "metadata": {
    "nbpresent": {
     "id": "3898ffa7-b090-4363-975a-f9955baa6b1c"
    },
    "slideshow": {
     "slide_type": "slide"
    }
   },
   "source": [
    "### the dtype changes to python object because reindex_like silently inserts NaNs and the dtype changes accordingly. "
   ]
  },
  {
   "cell_type": "markdown",
   "metadata": {
    "nbpresent": {
     "id": "de6585aa-be62-4f49-9038-3424d7e10ccf"
    },
    "slideshow": {
     "slide_type": "subslide"
    }
   },
   "source": [
    "## Some other tips\n",
    "*  Avoid multithreading while using pandas as it may delete some frames or dataframe.copy might skip some frames while handdling very large scale data sets\n",
    "* Avoid using with BS4."
   ]
  },
  {
   "cell_type": "markdown",
   "metadata": {
    "nbpresent": {
     "id": "aab63781-12d1-44dd-8ce9-8d45607e37d9"
    },
    "slideshow": {
     "slide_type": "slide"
    }
   },
   "source": [
    "\n",
    "# links\n",
    "* ### http://pandas.pydata.org/pandas-docs/stable/gotchas.html\n",
    "* ### http://docs.python-guide.org/en/latest/writing/gotchas/#late-binding-closures\n",
    "* ### https://gist.github.com/manojpandey/41b90cba1fd62095e247d1b2448ef85b\n",
    "* ### http://pandas.pydata.org/pandas-docs/version/0.19.2/gotchas.html"
   ]
  },
  {
   "cell_type": "markdown",
   "metadata": {
    "collapsed": true,
    "nbpresent": {
     "id": "b6b5cc5c-61bd-4137-8e94-233b43f7d38e"
    },
    "slideshow": {
     "slide_type": "slide"
    }
   },
   "source": [
    "![Ending remarks](s2.png)"
   ]
  },
  {
   "cell_type": "code",
   "execution_count": null,
   "metadata": {
    "collapsed": true
   },
   "outputs": [],
   "source": []
  },
  {
   "cell_type": "code",
   "execution_count": null,
   "metadata": {
    "collapsed": true
   },
   "outputs": [],
   "source": []
  },
  {
   "cell_type": "code",
   "execution_count": null,
   "metadata": {
    "collapsed": true
   },
   "outputs": [],
   "source": []
  }
 ],
 "metadata": {
  "anaconda-cloud": {},
  "celltoolbar": "Slideshow",
  "kernelspec": {
   "display_name": "Python 3",
   "language": "python",
   "name": "python3"
  },
  "language_info": {
   "codemirror_mode": {
    "name": "ipython",
    "version": 3
   },
   "file_extension": ".py",
   "mimetype": "text/x-python",
   "name": "python",
   "nbconvert_exporter": "python",
   "pygments_lexer": "ipython3",
   "version": "3.5.2"
  },
  "nbpresent": {
   "slides": {
    "0de64648-22bd-4a56-8c9f-3ab1720739f3": {
     "id": "0de64648-22bd-4a56-8c9f-3ab1720739f3",
     "prev": "6ecf789b-d242-4e16-b57c-0e3b0ded9690",
     "regions": {
      "4df2a932-5175-43e1-bf8a-62a811065a7e": {
       "attrs": {
        "height": 0.8,
        "width": 0.8,
        "x": 0.1,
        "y": 0.1
       },
       "content": {
        "cell": "3b540b86-46a0-4495-b451-422167745195",
        "part": "whole"
       },
       "id": "4df2a932-5175-43e1-bf8a-62a811065a7e"
      }
     }
    },
    "12a6e790-d978-4075-89d5-495e2ecee6f8": {
     "id": "12a6e790-d978-4075-89d5-495e2ecee6f8",
     "prev": "5b84cb99-725e-438c-9119-ee25f9449353",
     "regions": {
      "b38c0e08-d467-46a2-96e9-d003ef881687": {
       "attrs": {
        "height": 0.8,
        "width": 0.8,
        "x": 0.1,
        "y": 0.1
       },
       "content": {
        "cell": "529d606f-5832-41b8-b0a5-0716652684a8",
        "part": "whole"
       },
       "id": "b38c0e08-d467-46a2-96e9-d003ef881687"
      }
     }
    },
    "1723565b-2716-49d8-8903-b42b0f85c355": {
     "id": "1723565b-2716-49d8-8903-b42b0f85c355",
     "prev": "c624ce72-421f-45d8-b117-187c801647ea",
     "regions": {
      "de1fde51-b43b-41ed-bb9f-a6c7adda33bf": {
       "attrs": {
        "height": 0.8,
        "width": 0.8,
        "x": 0.1,
        "y": 0.1
       },
       "content": {
        "cell": "4959cce3-5527-4fda-9c90-cde0add5e21f",
        "part": "whole"
       },
       "id": "de1fde51-b43b-41ed-bb9f-a6c7adda33bf"
      }
     }
    },
    "1a677981-3db1-43c5-89e5-c074bcb33aa2": {
     "id": "1a677981-3db1-43c5-89e5-c074bcb33aa2",
     "prev": "761cbd1d-b40c-4508-8ad8-9b2853b1e12f",
     "regions": {
      "b99efc96-3421-44b1-a299-c06b5d8b1d78": {
       "attrs": {
        "height": 0.8,
        "width": 0.8,
        "x": 0.1,
        "y": 0.1
       },
       "content": {
        "cell": "de6585aa-be62-4f49-9038-3424d7e10ccf",
        "part": "whole"
       },
       "id": "b99efc96-3421-44b1-a299-c06b5d8b1d78"
      }
     }
    },
    "1e65c10b-e320-4d72-bc19-2b0334711ae9": {
     "id": "1e65c10b-e320-4d72-bc19-2b0334711ae9",
     "prev": "c445760e-227c-438a-86b0-2059cfc1f94e",
     "regions": {
      "64d67296-9538-4c72-8446-3a84d5ee9749": {
       "attrs": {
        "height": 0.8,
        "width": 0.8,
        "x": 0.1,
        "y": 0.1
       },
       "content": {
        "cell": "72137b31-9142-40be-87f7-0b2012b0f0e9",
        "part": "whole"
       },
       "id": "64d67296-9538-4c72-8446-3a84d5ee9749"
      }
     }
    },
    "2a748477-0c26-4c90-afb2-be16431f263d": {
     "id": "2a748477-0c26-4c90-afb2-be16431f263d",
     "prev": "eccd6d02-309e-49a9-9862-f0d49a62e3ed",
     "regions": {
      "73ab6d0e-ebd0-441b-9f26-58eb54748eb9": {
       "attrs": {
        "height": 0.8,
        "width": 0.8,
        "x": 0.1,
        "y": 0.1
       },
       "content": {
        "cell": "f4818266-bc9f-40b2-a958-5f9e8f1f442c",
        "part": "whole"
       },
       "id": "73ab6d0e-ebd0-441b-9f26-58eb54748eb9"
      }
     }
    },
    "3ac64b55-fec1-44f2-99c4-4b12ddf5139c": {
     "id": "3ac64b55-fec1-44f2-99c4-4b12ddf5139c",
     "prev": "fbcdd154-b798-4b2d-ba63-3aeae32ce80d",
     "regions": {
      "6af4c624-24ea-412b-aa2e-9cb82521124c": {
       "attrs": {
        "height": 0.8,
        "width": 0.8,
        "x": 0.1,
        "y": 0.1
       },
       "content": {
        "cell": "72eaccff-7e2c-4d94-b596-967a1d6e9a89",
        "part": "whole"
       },
       "id": "6af4c624-24ea-412b-aa2e-9cb82521124c"
      }
     }
    },
    "412160d3-0234-47c6-a356-d44aacc01e2e": {
     "id": "412160d3-0234-47c6-a356-d44aacc01e2e",
     "prev": "b08b7d6f-9500-425d-bf70-f0b1e2ccc53c",
     "regions": {
      "cf2b7878-21b8-484e-ae40-81a4f9512bb3": {
       "attrs": {
        "height": 0.8,
        "width": 0.8,
        "x": 0.1,
        "y": 0.1
       },
       "content": {
        "cell": "3f61aa2b-5fe1-4cf1-960c-639b6527cb8e",
        "part": "whole"
       },
       "id": "cf2b7878-21b8-484e-ae40-81a4f9512bb3"
      }
     }
    },
    "4e921f52-a31c-4eb5-b2b0-884532f3b7ee": {
     "id": "4e921f52-a31c-4eb5-b2b0-884532f3b7ee",
     "prev": "1e65c10b-e320-4d72-bc19-2b0334711ae9",
     "regions": {
      "3c762676-6eec-4807-8f9a-b1084f628dd6": {
       "attrs": {
        "height": 0.8,
        "width": 0.8,
        "x": 0.1,
        "y": 0.1
       },
       "content": {
        "cell": "d45f1680-d2bb-45db-b7e5-113b8c93344c",
        "part": "whole"
       },
       "id": "3c762676-6eec-4807-8f9a-b1084f628dd6"
      }
     }
    },
    "50d3a144-3bca-4aaa-8166-4ca54494fb57": {
     "id": "50d3a144-3bca-4aaa-8166-4ca54494fb57",
     "prev": "2a748477-0c26-4c90-afb2-be16431f263d",
     "regions": {
      "7b3bb342-abeb-467d-af52-612647b56fbd": {
       "attrs": {
        "height": 0.8,
        "width": 0.8,
        "x": 0.1,
        "y": 0.1
       },
       "content": {
        "cell": "d6c94b62-9e02-457a-b9b7-c5acdc48bf6d",
        "part": "whole"
       },
       "id": "7b3bb342-abeb-467d-af52-612647b56fbd"
      }
     }
    },
    "52159116-b9e8-4c86-998a-41a9862695a8": {
     "id": "52159116-b9e8-4c86-998a-41a9862695a8",
     "prev": "98f5753c-7a5d-4eda-a0be-b483b80e40af",
     "regions": {
      "2179698d-284f-4be5-91cd-c8896fdee921": {
       "attrs": {
        "height": 0.8,
        "width": 0.8,
        "x": 0.1,
        "y": 0.1
       },
       "content": {
        "cell": "7203a34d-18b7-4373-bb8a-be27d45954f9",
        "part": "whole"
       },
       "id": "2179698d-284f-4be5-91cd-c8896fdee921"
      }
     }
    },
    "59840fa2-b20e-4f17-93f2-8d1654df8f9a": {
     "id": "59840fa2-b20e-4f17-93f2-8d1654df8f9a",
     "prev": "1a677981-3db1-43c5-89e5-c074bcb33aa2",
     "regions": {
      "9dd5da08-ea44-4fd9-b0d5-de1fcbf6a59e": {
       "attrs": {
        "height": 0.4,
        "width": 0.8,
        "x": 0.1,
        "y": 0.5
       },
       "content": {
        "cell": "b6b5cc5c-61bd-4137-8e94-233b43f7d38e",
        "part": "whole"
       },
       "id": "9dd5da08-ea44-4fd9-b0d5-de1fcbf6a59e"
      },
      "c9515e48-f5bb-475d-a5e6-8a3245033451": {
       "attrs": {
        "height": 0.8,
        "width": 0.8,
        "x": 0.1,
        "y": 0.1
       },
       "content": {
        "cell": "aab63781-12d1-44dd-8ce9-8d45607e37d9",
        "part": "whole"
       },
       "id": "c9515e48-f5bb-475d-a5e6-8a3245033451"
      }
     }
    },
    "5b84cb99-725e-438c-9119-ee25f9449353": {
     "id": "5b84cb99-725e-438c-9119-ee25f9449353",
     "prev": "0de64648-22bd-4a56-8c9f-3ab1720739f3",
     "regions": {
      "f549793f-6bc5-43db-933b-bec1507b6039": {
       "attrs": {
        "height": 0.8,
        "width": 0.8,
        "x": 0.1,
        "y": 0.1
       },
       "content": {
        "cell": "579e6535-6d9f-4920-9ef2-19315e219b64",
        "part": "whole"
       },
       "id": "f549793f-6bc5-43db-933b-bec1507b6039"
      }
     }
    },
    "5ec7a558-a8b1-4539-8efe-5dd5ce26e1e1": {
     "id": "5ec7a558-a8b1-4539-8efe-5dd5ce26e1e1",
     "prev": "12a6e790-d978-4075-89d5-495e2ecee6f8",
     "regions": {
      "2dfcef66-f6b6-460d-82ab-6ea7064e912d": {
       "attrs": {
        "height": 0.8,
        "width": 0.8,
        "x": 0.1,
        "y": 0.1
       },
       "content": {
        "cell": "c5e74e40-9409-4ec8-91a1-5ce9f76495ec",
        "part": "whole"
       },
       "id": "2dfcef66-f6b6-460d-82ab-6ea7064e912d"
      }
     }
    },
    "6bca2847-6937-43c8-a858-3628d8f11ee6": {
     "id": "6bca2847-6937-43c8-a858-3628d8f11ee6",
     "prev": "52159116-b9e8-4c86-998a-41a9862695a8",
     "regions": {
      "62916224-9bc9-4c99-b8e1-6f5962657820": {
       "attrs": {
        "height": 0.8,
        "width": 0.8,
        "x": 0.1,
        "y": 0.1
       },
       "content": {
        "cell": "fa4898ab-dbb7-48a0-b342-29b84ee079c6",
        "part": "whole"
       },
       "id": "62916224-9bc9-4c99-b8e1-6f5962657820"
      }
     }
    },
    "6ecf789b-d242-4e16-b57c-0e3b0ded9690": {
     "id": "6ecf789b-d242-4e16-b57c-0e3b0ded9690",
     "prev": "1723565b-2716-49d8-8903-b42b0f85c355",
     "regions": {
      "fb8ea14e-8cdd-4e33-861f-544ad368cd6f": {
       "attrs": {
        "height": 0.8,
        "width": 0.8,
        "x": 0.1,
        "y": 0.1
       },
       "content": {
        "cell": "e0bff9ee-73c9-4db7-9966-e22aff1c0b59",
        "part": "whole"
       },
       "id": "fb8ea14e-8cdd-4e33-861f-544ad368cd6f"
      }
     }
    },
    "761cbd1d-b40c-4508-8ad8-9b2853b1e12f": {
     "id": "761cbd1d-b40c-4508-8ad8-9b2853b1e12f",
     "prev": "767e8657-bba9-4229-9cb9-7f3cb0c49e40",
     "regions": {
      "e23b44fa-646c-444a-a426-907481bd0432": {
       "attrs": {
        "height": 0.8,
        "width": 0.8,
        "x": 0.1,
        "y": 0.1
       },
       "content": {
        "cell": "3898ffa7-b090-4363-975a-f9955baa6b1c",
        "part": "whole"
       },
       "id": "e23b44fa-646c-444a-a426-907481bd0432"
      }
     }
    },
    "767e8657-bba9-4229-9cb9-7f3cb0c49e40": {
     "id": "767e8657-bba9-4229-9cb9-7f3cb0c49e40",
     "prev": "7fc821f8-4a1b-4bf3-bc7c-cde601be58a0",
     "regions": {
      "84268dfa-8900-4528-91ba-1a981fde3c23": {
       "attrs": {
        "height": 0.8,
        "width": 0.8,
        "x": 0.1,
        "y": 0.1
       },
       "content": {
        "cell": "01fe885c-00a5-413c-bf35-8f30bad00353",
        "part": "whole"
       },
       "id": "84268dfa-8900-4528-91ba-1a981fde3c23"
      }
     }
    },
    "7a42837d-b28e-4565-a7d9-bce130a84077": {
     "id": "7a42837d-b28e-4565-a7d9-bce130a84077",
     "prev": "e394c264-5ded-4a57-9ec3-f51aa75e86f4",
     "regions": {
      "1327cd31-a75a-47a9-aa1a-edfa12e6e382": {
       "attrs": {
        "height": 0.8,
        "width": 0.8,
        "x": 0.1,
        "y": 0.1
       },
       "content": {
        "cell": "05aa05bc-42e3-4433-a469-5df6947e580e",
        "part": "whole"
       },
       "id": "1327cd31-a75a-47a9-aa1a-edfa12e6e382"
      }
     }
    },
    "7fc821f8-4a1b-4bf3-bc7c-cde601be58a0": {
     "id": "7fc821f8-4a1b-4bf3-bc7c-cde601be58a0",
     "prev": "8be09f59-f83d-4291-9a7f-ec4699e5407d",
     "regions": {
      "51753c5c-d3b8-4837-9f7f-b875e12e33b2": {
       "attrs": {
        "height": 0.8,
        "width": 0.8,
        "x": 0.1,
        "y": 0.1
       },
       "content": {
        "cell": "2d8bda1c-6f30-4670-859f-4f88d9c912c6",
        "part": "whole"
       },
       "id": "51753c5c-d3b8-4837-9f7f-b875e12e33b2"
      }
     }
    },
    "87ad17a5-7e62-40f5-bc6b-10534216f3b2": {
     "id": "87ad17a5-7e62-40f5-bc6b-10534216f3b2",
     "prev": "7a42837d-b28e-4565-a7d9-bce130a84077",
     "regions": {
      "7c98388c-bd28-42ab-ab50-2eb1731e77a7": {
       "attrs": {
        "height": 0.8,
        "width": 0.8,
        "x": 0.1,
        "y": 0.1
       },
       "content": {
        "cell": "250c4517-be89-4553-badf-89f017664924",
        "part": "whole"
       },
       "id": "7c98388c-bd28-42ab-ab50-2eb1731e77a7"
      }
     }
    },
    "8be09f59-f83d-4291-9a7f-ec4699e5407d": {
     "id": "8be09f59-f83d-4291-9a7f-ec4699e5407d",
     "prev": "87ad17a5-7e62-40f5-bc6b-10534216f3b2",
     "regions": {
      "e9457216-8698-44e8-81c5-d0ee6d4a8971": {
       "attrs": {
        "height": 0.8,
        "width": 0.8,
        "x": 0.1,
        "y": 0.1
       },
       "content": {
        "cell": "336c4ef4-9c79-4580-b351-5d95f1fcd820",
        "part": "whole"
       },
       "id": "e9457216-8698-44e8-81c5-d0ee6d4a8971"
      }
     }
    },
    "98f5753c-7a5d-4eda-a0be-b483b80e40af": {
     "id": "98f5753c-7a5d-4eda-a0be-b483b80e40af",
     "prev": "50d3a144-3bca-4aaa-8166-4ca54494fb57",
     "regions": {
      "3e31caff-bbe2-43dc-8089-7418c14056b7": {
       "attrs": {
        "height": 0.8,
        "width": 0.8,
        "x": 0.1,
        "y": 0.1
       },
       "content": {
        "cell": "26a39cdb-8af8-4c55-8102-903874dd2c54",
        "part": "whole"
       },
       "id": "3e31caff-bbe2-43dc-8089-7418c14056b7"
      }
     }
    },
    "b08b7d6f-9500-425d-bf70-f0b1e2ccc53c": {
     "id": "b08b7d6f-9500-425d-bf70-f0b1e2ccc53c",
     "prev": "4e921f52-a31c-4eb5-b2b0-884532f3b7ee",
     "regions": {
      "9a06defd-17f1-44b0-a30a-b8edf540c5d8": {
       "attrs": {
        "height": 0.8,
        "width": 0.8,
        "x": 0.1,
        "y": 0.1
       },
       "content": {
        "cell": "0f09f5db-d848-47bf-ac32-69c1f7764c91",
        "part": "whole"
       },
       "id": "9a06defd-17f1-44b0-a30a-b8edf540c5d8"
      }
     }
    },
    "b1d6440d-5db0-4a28-b515-eccd4d8cdda5": {
     "id": "b1d6440d-5db0-4a28-b515-eccd4d8cdda5",
     "prev": "412160d3-0234-47c6-a356-d44aacc01e2e",
     "regions": {
      "35288a88-e255-4a2a-9b01-450cfd73ceeb": {
       "attrs": {
        "height": 0.8,
        "width": 0.8,
        "x": 0.1,
        "y": 0.1
       },
       "content": {
        "cell": "36a7dc40-e38f-4050-877f-e1559e17fb10",
        "part": "whole"
       },
       "id": "35288a88-e255-4a2a-9b01-450cfd73ceeb"
      }
     }
    },
    "c445760e-227c-438a-86b0-2059cfc1f94e": {
     "id": "c445760e-227c-438a-86b0-2059cfc1f94e",
     "prev": null,
     "regions": {
      "0bb356ac-b87e-44ff-974e-83c402ffce9f": {
       "attrs": {
        "height": 0.8,
        "width": 0.8,
        "x": 0.1,
        "y": 0.1
       },
       "content": {
        "cell": "b578d797-6c51-407b-8adb-df9b73ceedb0",
        "part": "whole"
       },
       "id": "0bb356ac-b87e-44ff-974e-83c402ffce9f"
      }
     }
    },
    "c624ce72-421f-45d8-b117-187c801647ea": {
     "id": "c624ce72-421f-45d8-b117-187c801647ea",
     "prev": "6bca2847-6937-43c8-a858-3628d8f11ee6",
     "regions": {
      "714f640b-87f2-45ee-b3db-fea847911b3e": {
       "attrs": {
        "height": 0.8,
        "width": 0.8,
        "x": 0.1,
        "y": 0.1
       },
       "content": {
        "cell": "26a3d5ea-df64-4e45-b575-37894cd5de5c",
        "part": "whole"
       },
       "id": "714f640b-87f2-45ee-b3db-fea847911b3e"
      }
     }
    },
    "e394c264-5ded-4a57-9ec3-f51aa75e86f4": {
     "id": "e394c264-5ded-4a57-9ec3-f51aa75e86f4",
     "prev": "5ec7a558-a8b1-4539-8efe-5dd5ce26e1e1",
     "regions": {
      "a354bb0b-e4da-493e-9995-6a330d353e49": {
       "attrs": {
        "height": 0.8,
        "width": 0.8,
        "x": 0.1,
        "y": 0.1
       },
       "content": {
        "cell": "5761272e-9a80-4553-a6d5-5b5b41f23fe1",
        "part": "whole"
       },
       "id": "a354bb0b-e4da-493e-9995-6a330d353e49"
      }
     }
    },
    "eccd6d02-309e-49a9-9862-f0d49a62e3ed": {
     "id": "eccd6d02-309e-49a9-9862-f0d49a62e3ed",
     "prev": "3ac64b55-fec1-44f2-99c4-4b12ddf5139c",
     "regions": {
      "95d0132b-6e18-4635-b543-367863002925": {
       "attrs": {
        "height": 0.8,
        "width": 0.8,
        "x": 0.1,
        "y": 0.1
       },
       "content": {
        "cell": "fce74e4e-8b1c-488e-a44f-f5652c6a8a5b",
        "part": "whole"
       },
       "id": "95d0132b-6e18-4635-b543-367863002925"
      }
     }
    },
    "fbcdd154-b798-4b2d-ba63-3aeae32ce80d": {
     "id": "fbcdd154-b798-4b2d-ba63-3aeae32ce80d",
     "prev": "b1d6440d-5db0-4a28-b515-eccd4d8cdda5",
     "regions": {
      "cfb13051-c5c6-4a3d-96fa-2c64e8e8ea28": {
       "attrs": {
        "height": 0.8,
        "width": 0.8,
        "x": 0.1,
        "y": 0.1
       },
       "content": {
        "cell": "4d394517-b8f0-4362-8bf8-d8c82a63b542",
        "part": "whole"
       },
       "id": "cfb13051-c5c6-4a3d-96fa-2c64e8e8ea28"
      }
     }
    }
   },
   "themes": {}
  }
 },
 "nbformat": 4,
 "nbformat_minor": 1
}
